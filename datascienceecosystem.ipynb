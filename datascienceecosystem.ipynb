{
  "metadata": {
    "language_info": {
      "codemirror_mode": {
        "name": "python",
        "version": 3
      },
      "file_extension": ".py",
      "mimetype": "text/x-python",
      "name": "python",
      "nbconvert_exporter": "python",
      "pygments_lexer": "ipython3",
      "version": "3.8"
    },
    "kernelspec": {
      "name": "python",
      "display_name": "Python (Pyodide)",
      "language": "python"
    }
  },
  "nbformat_minor": 4,
  "nbformat": 4,
  "cells": [
    {
      "cell_type": "markdown",
      "source": "# Introduction\n",
      "metadata": {}
    },
    {
      "cell_type": "markdown",
      "source": "Data science languages:\n\n1. r\n2. hulia\n3. javascript",
      "metadata": {}
    },
    {
      "cell_type": "markdown",
      "source": "Libraries Data Science:\n1. pandas \n2. NumPy \n3. SciPy \n4. Sci-Kit Learn ",
      "metadata": {}
    },
    {
      "cell_type": "markdown",
      "source": "<b>table: data science tools<b>\n\ns.no Tool\n1. R\n2. Matlab\n3. Python\n",
      "metadata": {}
    },
    {
      "cell_type": "markdown",
      "source": "<b> math expression</b> \n",
      "metadata": {}
    },
    {
      "cell_type": "markdown",
      "source": "$ 2+2 = 4$",
      "metadata": {}
    },
    {
      "cell_type": "code",
      "source": "# program to add and mul two numbers \n\nnum1 = 15\nnum2 = 12\n\n# Adding two nos\nsum = num1 + num2\nmul= num1 * num2\n\n# printing values\nprint(\"Sum of {0} and {1} is {2}\" .format(num1, num2, sum))\nprint(\"mul of {0} and {1} is {2}\" .format(num1, num2, mul))",
      "metadata": {
        "trusted": true
      },
      "execution_count": 1,
      "outputs": [
        {
          "name": "stdout",
          "text": "Sum of 15 and 12 is 27\nmul of 15 and 12 is 180\n",
          "output_type": "stream"
        }
      ]
    },
    {
      "cell_type": "code",
      "source": "def conversion(minutes):  \n\n\n    hours = minutes / 60;  \n      \n    print(\"There are \" , hours , \" hours in \" , minutes , \" minutes\");  \n      \nminutes = 120  \nconversion(minutes);  ",
      "metadata": {
        "trusted": true
      },
      "execution_count": 3,
      "outputs": [
        {
          "name": "stdout",
          "text": "There are  2.0  hours in  120  minutes\n",
          "output_type": "stream"
        }
      ]
    },
    {
      "cell_type": "markdown",
      "source": "# Author Name:Vikas Juneja",
      "metadata": {}
    },
    {
      "cell_type": "code",
      "source": "",
      "metadata": {},
      "execution_count": null,
      "outputs": []
    },
    {
      "cell_type": "code",
      "source": "",
      "metadata": {},
      "execution_count": null,
      "outputs": []
    }
  ]
}